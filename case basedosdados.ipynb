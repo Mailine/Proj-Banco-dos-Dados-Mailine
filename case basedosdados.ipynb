{
 "cells": [
  {
   "cell_type": "markdown",
   "id": "2275541d",
   "metadata": {},
   "source": [
    "# <font color='red'>Análise: Ascenção das mulheres na política e escolaridade dos candidatos </font>"
   ]
  },
  {
   "cell_type": "code",
   "execution_count": 1,
   "id": "3e3177c6",
   "metadata": {},
   "outputs": [],
   "source": [
    "import random\n",
    "import pandas as pd\n",
    "import numpy as np\n",
    "import matplotlib.pyplot as plt\n",
    "import seaborn as sns\n",
    "%matplotlib inline"
   ]
  },
  {
   "cell_type": "code",
   "execution_count": 2,
   "id": "a3c0a0c0",
   "metadata": {},
   "outputs": [],
   "source": [
    "sns.set()"
   ]
  },
  {
   "cell_type": "code",
   "execution_count": 3,
   "id": "44032907",
   "metadata": {},
   "outputs": [
    {
     "name": "stderr",
     "output_type": "stream",
     "text": [
      "C:\\Users\\Mailine\\anaconda3\\lib\\site-packages\\IPython\\core\\interactiveshell.py:3444: DtypeWarning: Columns (6,7,25,26) have mixed types.Specify dtype option on import or set low_memory=False.\n",
      "  exec(code_obj, self.user_global_ns, self.user_ns)\n"
     ]
    }
   ],
   "source": [
    "# Essa tabela contêm os dados dos candidatos das eleições brasileiras de 1994 a 2020\n",
    "cand = pd.read_csv('candidatos.csv',delimiter=',')"
   ]
  },
  {
   "cell_type": "code",
   "execution_count": 4,
   "id": "e2897a53",
   "metadata": {},
   "outputs": [
    {
     "data": {
      "text/html": [
       "<div>\n",
       "<style scoped>\n",
       "    .dataframe tbody tr th:only-of-type {\n",
       "        vertical-align: middle;\n",
       "    }\n",
       "\n",
       "    .dataframe tbody tr th {\n",
       "        vertical-align: top;\n",
       "    }\n",
       "\n",
       "    .dataframe thead th {\n",
       "        text-align: right;\n",
       "    }\n",
       "</style>\n",
       "<table border=\"1\" class=\"dataframe\">\n",
       "  <thead>\n",
       "    <tr style=\"text-align: right;\">\n",
       "      <th></th>\n",
       "      <th>ano</th>\n",
       "      <th>tipo_eleicao</th>\n",
       "      <th>sigla_uf</th>\n",
       "      <th>id_municipio</th>\n",
       "      <th>id_municipio_tse</th>\n",
       "      <th>id_candidato_bd</th>\n",
       "      <th>cpf</th>\n",
       "      <th>titulo_eleitoral</th>\n",
       "      <th>sequencial</th>\n",
       "      <th>numero</th>\n",
       "      <th>...</th>\n",
       "      <th>data_nascimento</th>\n",
       "      <th>idade</th>\n",
       "      <th>genero</th>\n",
       "      <th>instrucao</th>\n",
       "      <th>estado_civil</th>\n",
       "      <th>nacionalidade</th>\n",
       "      <th>sigla_uf_nascimento</th>\n",
       "      <th>municipio_nascimento</th>\n",
       "      <th>email</th>\n",
       "      <th>raca</th>\n",
       "    </tr>\n",
       "  </thead>\n",
       "  <tbody>\n",
       "    <tr>\n",
       "      <th>0</th>\n",
       "      <td>1994</td>\n",
       "      <td>eleicao ordinaria</td>\n",
       "      <td>AC</td>\n",
       "      <td>NaN</td>\n",
       "      <td>NaN</td>\n",
       "      <td>NaN</td>\n",
       "      <td>NaN</td>\n",
       "      <td>1001852402</td>\n",
       "      <td>NaN</td>\n",
       "      <td>22211.0</td>\n",
       "      <td>...</td>\n",
       "      <td>1957-12-16</td>\n",
       "      <td>37.0</td>\n",
       "      <td>masculino</td>\n",
       "      <td>NaN</td>\n",
       "      <td>NaN</td>\n",
       "      <td>NaN</td>\n",
       "      <td>NaN</td>\n",
       "      <td>NaN</td>\n",
       "      <td>NaN</td>\n",
       "      <td>NaN</td>\n",
       "    </tr>\n",
       "    <tr>\n",
       "      <th>1</th>\n",
       "      <td>1994</td>\n",
       "      <td>eleicao ordinaria</td>\n",
       "      <td>AC</td>\n",
       "      <td>NaN</td>\n",
       "      <td>NaN</td>\n",
       "      <td>NaN</td>\n",
       "      <td>NaN</td>\n",
       "      <td>1010342445</td>\n",
       "      <td>NaN</td>\n",
       "      <td>11122.0</td>\n",
       "      <td>...</td>\n",
       "      <td>1957-07-25</td>\n",
       "      <td>37.0</td>\n",
       "      <td>masculino</td>\n",
       "      <td>NaN</td>\n",
       "      <td>NaN</td>\n",
       "      <td>NaN</td>\n",
       "      <td>NaN</td>\n",
       "      <td>NaN</td>\n",
       "      <td>NaN</td>\n",
       "      <td>NaN</td>\n",
       "    </tr>\n",
       "    <tr>\n",
       "      <th>2</th>\n",
       "      <td>1994</td>\n",
       "      <td>eleicao ordinaria</td>\n",
       "      <td>AC</td>\n",
       "      <td>NaN</td>\n",
       "      <td>NaN</td>\n",
       "      <td>NaN</td>\n",
       "      <td>NaN</td>\n",
       "      <td>1032012410</td>\n",
       "      <td>NaN</td>\n",
       "      <td>15120.0</td>\n",
       "      <td>...</td>\n",
       "      <td>1950-03-09</td>\n",
       "      <td>45.0</td>\n",
       "      <td>masculino</td>\n",
       "      <td>NaN</td>\n",
       "      <td>NaN</td>\n",
       "      <td>NaN</td>\n",
       "      <td>NaN</td>\n",
       "      <td>NaN</td>\n",
       "      <td>NaN</td>\n",
       "      <td>NaN</td>\n",
       "    </tr>\n",
       "    <tr>\n",
       "      <th>3</th>\n",
       "      <td>1994</td>\n",
       "      <td>eleicao ordinaria</td>\n",
       "      <td>AC</td>\n",
       "      <td>NaN</td>\n",
       "      <td>NaN</td>\n",
       "      <td>NaN</td>\n",
       "      <td>NaN</td>\n",
       "      <td>1055032488</td>\n",
       "      <td>NaN</td>\n",
       "      <td>15113.0</td>\n",
       "      <td>...</td>\n",
       "      <td>1930-01-14</td>\n",
       "      <td>65.0</td>\n",
       "      <td>masculino</td>\n",
       "      <td>NaN</td>\n",
       "      <td>NaN</td>\n",
       "      <td>NaN</td>\n",
       "      <td>NaN</td>\n",
       "      <td>NaN</td>\n",
       "      <td>NaN</td>\n",
       "      <td>NaN</td>\n",
       "    </tr>\n",
       "    <tr>\n",
       "      <th>4</th>\n",
       "      <td>1994</td>\n",
       "      <td>eleicao ordinaria</td>\n",
       "      <td>AC</td>\n",
       "      <td>NaN</td>\n",
       "      <td>NaN</td>\n",
       "      <td>NaN</td>\n",
       "      <td>NaN</td>\n",
       "      <td>1083142470</td>\n",
       "      <td>NaN</td>\n",
       "      <td>11111.0</td>\n",
       "      <td>...</td>\n",
       "      <td>1945-05-05</td>\n",
       "      <td>49.0</td>\n",
       "      <td>masculino</td>\n",
       "      <td>NaN</td>\n",
       "      <td>NaN</td>\n",
       "      <td>NaN</td>\n",
       "      <td>NaN</td>\n",
       "      <td>NaN</td>\n",
       "      <td>NaN</td>\n",
       "      <td>NaN</td>\n",
       "    </tr>\n",
       "    <tr>\n",
       "      <th>...</th>\n",
       "      <td>...</td>\n",
       "      <td>...</td>\n",
       "      <td>...</td>\n",
       "      <td>...</td>\n",
       "      <td>...</td>\n",
       "      <td>...</td>\n",
       "      <td>...</td>\n",
       "      <td>...</td>\n",
       "      <td>...</td>\n",
       "      <td>...</td>\n",
       "      <td>...</td>\n",
       "      <td>...</td>\n",
       "      <td>...</td>\n",
       "      <td>...</td>\n",
       "      <td>...</td>\n",
       "      <td>...</td>\n",
       "      <td>...</td>\n",
       "      <td>...</td>\n",
       "      <td>...</td>\n",
       "      <td>...</td>\n",
       "      <td>...</td>\n",
       "    </tr>\n",
       "    <tr>\n",
       "      <th>2858292</th>\n",
       "      <td>2020</td>\n",
       "      <td>eleicao ordinaria</td>\n",
       "      <td>TO</td>\n",
       "      <td>1710508.0</td>\n",
       "      <td>94056.0</td>\n",
       "      <td>1802090.0</td>\n",
       "      <td>99941589100</td>\n",
       "      <td>40410702763</td>\n",
       "      <td>2.700011e+11</td>\n",
       "      <td>14456.0</td>\n",
       "      <td>...</td>\n",
       "      <td>1981-10-07</td>\n",
       "      <td>39.0</td>\n",
       "      <td>masculino</td>\n",
       "      <td>ensino medio completo</td>\n",
       "      <td>casado(a)</td>\n",
       "      <td>brasileira</td>\n",
       "      <td>TO</td>\n",
       "      <td>Guaraí</td>\n",
       "      <td>ptb14itacaja@gmailcom</td>\n",
       "      <td>parda</td>\n",
       "    </tr>\n",
       "    <tr>\n",
       "      <th>2858293</th>\n",
       "      <td>2020</td>\n",
       "      <td>eleicao ordinaria</td>\n",
       "      <td>TO</td>\n",
       "      <td>1702109.0</td>\n",
       "      <td>92410.0</td>\n",
       "      <td>1802148.0</td>\n",
       "      <td>99950545153</td>\n",
       "      <td>34758132755</td>\n",
       "      <td>2.700008e+11</td>\n",
       "      <td>20333.0</td>\n",
       "      <td>...</td>\n",
       "      <td>1982-11-13</td>\n",
       "      <td>38.0</td>\n",
       "      <td>masculino</td>\n",
       "      <td>ensino medio completo</td>\n",
       "      <td>casado(a)</td>\n",
       "      <td>brasileira</td>\n",
       "      <td>TO</td>\n",
       "      <td>Araguaína</td>\n",
       "      <td>gesimaobinas@hotmailcom</td>\n",
       "      <td>parda</td>\n",
       "    </tr>\n",
       "    <tr>\n",
       "      <th>2858294</th>\n",
       "      <td>2020</td>\n",
       "      <td>eleicao ordinaria</td>\n",
       "      <td>TO</td>\n",
       "      <td>1720200.0</td>\n",
       "      <td>73180.0</td>\n",
       "      <td>1802371.0</td>\n",
       "      <td>99981920134</td>\n",
       "      <td>34368592704</td>\n",
       "      <td>2.700011e+11</td>\n",
       "      <td>77222.0</td>\n",
       "      <td>...</td>\n",
       "      <td>1983-02-03</td>\n",
       "      <td>38.0</td>\n",
       "      <td>masculino</td>\n",
       "      <td>ensino medio completo</td>\n",
       "      <td>casado(a)</td>\n",
       "      <td>brasileira</td>\n",
       "      <td>MA</td>\n",
       "      <td>Imperatriz</td>\n",
       "      <td>contadorkcs@gmailcom</td>\n",
       "      <td>parda</td>\n",
       "    </tr>\n",
       "    <tr>\n",
       "      <th>2858295</th>\n",
       "      <td>2020</td>\n",
       "      <td>eleicao ordinaria</td>\n",
       "      <td>TO</td>\n",
       "      <td>1722107.0</td>\n",
       "      <td>96431.0</td>\n",
       "      <td>1802400.0</td>\n",
       "      <td>99985764153</td>\n",
       "      <td>34607462739</td>\n",
       "      <td>2.700012e+11</td>\n",
       "      <td>25125.0</td>\n",
       "      <td>...</td>\n",
       "      <td>1982-12-08</td>\n",
       "      <td>38.0</td>\n",
       "      <td>masculino</td>\n",
       "      <td>ensino fundamental completo</td>\n",
       "      <td>solteiro(a)</td>\n",
       "      <td>brasileira</td>\n",
       "      <td>GO</td>\n",
       "      <td>Goiânia</td>\n",
       "      <td>fabiocont2011@hotmailcom</td>\n",
       "      <td>branca</td>\n",
       "    </tr>\n",
       "    <tr>\n",
       "      <th>2858296</th>\n",
       "      <td>2020</td>\n",
       "      <td>eleicao ordinaria</td>\n",
       "      <td>TO</td>\n",
       "      <td>1707652.0</td>\n",
       "      <td>96679.0</td>\n",
       "      <td>1802478.0</td>\n",
       "      <td>99997207149</td>\n",
       "      <td>31266332798</td>\n",
       "      <td>2.700011e+11</td>\n",
       "      <td>14666.0</td>\n",
       "      <td>...</td>\n",
       "      <td>1957-06-07</td>\n",
       "      <td>63.0</td>\n",
       "      <td>feminino</td>\n",
       "      <td>ensino fundamental incompleto</td>\n",
       "      <td>casado(a)</td>\n",
       "      <td>brasileira</td>\n",
       "      <td>TO</td>\n",
       "      <td>Figueirópolis</td>\n",
       "      <td>sinhozinho25@gmailcom</td>\n",
       "      <td>parda</td>\n",
       "    </tr>\n",
       "  </tbody>\n",
       "</table>\n",
       "<p>2858297 rows × 27 columns</p>\n",
       "</div>"
      ],
      "text/plain": [
       "          ano       tipo_eleicao sigla_uf  id_municipio  id_municipio_tse  \\\n",
       "0        1994  eleicao ordinaria       AC           NaN               NaN   \n",
       "1        1994  eleicao ordinaria       AC           NaN               NaN   \n",
       "2        1994  eleicao ordinaria       AC           NaN               NaN   \n",
       "3        1994  eleicao ordinaria       AC           NaN               NaN   \n",
       "4        1994  eleicao ordinaria       AC           NaN               NaN   \n",
       "...       ...                ...      ...           ...               ...   \n",
       "2858292  2020  eleicao ordinaria       TO     1710508.0           94056.0   \n",
       "2858293  2020  eleicao ordinaria       TO     1702109.0           92410.0   \n",
       "2858294  2020  eleicao ordinaria       TO     1720200.0           73180.0   \n",
       "2858295  2020  eleicao ordinaria       TO     1722107.0           96431.0   \n",
       "2858296  2020  eleicao ordinaria       TO     1707652.0           96679.0   \n",
       "\n",
       "         id_candidato_bd          cpf titulo_eleitoral    sequencial   numero  \\\n",
       "0                    NaN          NaN       1001852402           NaN  22211.0   \n",
       "1                    NaN          NaN       1010342445           NaN  11122.0   \n",
       "2                    NaN          NaN       1032012410           NaN  15120.0   \n",
       "3                    NaN          NaN       1055032488           NaN  15113.0   \n",
       "4                    NaN          NaN       1083142470           NaN  11111.0   \n",
       "...                  ...          ...              ...           ...      ...   \n",
       "2858292        1802090.0  99941589100      40410702763  2.700011e+11  14456.0   \n",
       "2858293        1802148.0  99950545153      34758132755  2.700008e+11  20333.0   \n",
       "2858294        1802371.0  99981920134      34368592704  2.700011e+11  77222.0   \n",
       "2858295        1802400.0  99985764153      34607462739  2.700012e+11  25125.0   \n",
       "2858296        1802478.0  99997207149      31266332798  2.700011e+11  14666.0   \n",
       "\n",
       "         ... data_nascimento idade     genero                      instrucao  \\\n",
       "0        ...      1957-12-16  37.0  masculino                            NaN   \n",
       "1        ...      1957-07-25  37.0  masculino                            NaN   \n",
       "2        ...      1950-03-09  45.0  masculino                            NaN   \n",
       "3        ...      1930-01-14  65.0  masculino                            NaN   \n",
       "4        ...      1945-05-05  49.0  masculino                            NaN   \n",
       "...      ...             ...   ...        ...                            ...   \n",
       "2858292  ...      1981-10-07  39.0  masculino          ensino medio completo   \n",
       "2858293  ...      1982-11-13  38.0  masculino          ensino medio completo   \n",
       "2858294  ...      1983-02-03  38.0  masculino          ensino medio completo   \n",
       "2858295  ...      1982-12-08  38.0  masculino    ensino fundamental completo   \n",
       "2858296  ...      1957-06-07  63.0   feminino  ensino fundamental incompleto   \n",
       "\n",
       "        estado_civil nacionalidade sigla_uf_nascimento municipio_nascimento  \\\n",
       "0                NaN           NaN                 NaN                  NaN   \n",
       "1                NaN           NaN                 NaN                  NaN   \n",
       "2                NaN           NaN                 NaN                  NaN   \n",
       "3                NaN           NaN                 NaN                  NaN   \n",
       "4                NaN           NaN                 NaN                  NaN   \n",
       "...              ...           ...                 ...                  ...   \n",
       "2858292    casado(a)    brasileira                  TO               Guaraí   \n",
       "2858293    casado(a)    brasileira                  TO            Araguaína   \n",
       "2858294    casado(a)    brasileira                  MA           Imperatriz   \n",
       "2858295  solteiro(a)    brasileira                  GO              Goiânia   \n",
       "2858296    casado(a)    brasileira                  TO        Figueirópolis   \n",
       "\n",
       "                            email    raca  \n",
       "0                             NaN     NaN  \n",
       "1                             NaN     NaN  \n",
       "2                             NaN     NaN  \n",
       "3                             NaN     NaN  \n",
       "4                             NaN     NaN  \n",
       "...                           ...     ...  \n",
       "2858292     ptb14itacaja@gmailcom   parda  \n",
       "2858293   gesimaobinas@hotmailcom   parda  \n",
       "2858294      contadorkcs@gmailcom   parda  \n",
       "2858295  fabiocont2011@hotmailcom  branca  \n",
       "2858296     sinhozinho25@gmailcom   parda  \n",
       "\n",
       "[2858297 rows x 27 columns]"
      ]
     },
     "execution_count": 4,
     "metadata": {},
     "output_type": "execute_result"
    }
   ],
   "source": [
    "# Imprimindo a tabela na tela:\n",
    "cand"
   ]
  },
  {
   "cell_type": "code",
   "execution_count": 5,
   "id": "fce3ffca",
   "metadata": {},
   "outputs": [
    {
     "name": "stdout",
     "output_type": "stream",
     "text": [
      "<class 'pandas.core.frame.DataFrame'>\n",
      "RangeIndex: 2858297 entries, 0 to 2858296\n",
      "Data columns (total 27 columns):\n",
      " #   Column                Dtype  \n",
      "---  ------                -----  \n",
      " 0   ano                   int64  \n",
      " 1   tipo_eleicao          object \n",
      " 2   sigla_uf              object \n",
      " 3   id_municipio          float64\n",
      " 4   id_municipio_tse      float64\n",
      " 5   id_candidato_bd       float64\n",
      " 6   cpf                   object \n",
      " 7   titulo_eleitoral      object \n",
      " 8   sequencial            float64\n",
      " 9   numero                float64\n",
      " 10  nome                  object \n",
      " 11  nome_urna             object \n",
      " 12  numero_partido        float64\n",
      " 13  sigla_partido         object \n",
      " 14  cargo                 object \n",
      " 15  situacao              object \n",
      " 16  ocupacao              object \n",
      " 17  data_nascimento       object \n",
      " 18  idade                 float64\n",
      " 19  genero                object \n",
      " 20  instrucao             object \n",
      " 21  estado_civil          object \n",
      " 22  nacionalidade         object \n",
      " 23  sigla_uf_nascimento   object \n",
      " 24  municipio_nascimento  object \n",
      " 25  email                 object \n",
      " 26  raca                  object \n",
      "dtypes: float64(7), int64(1), object(19)\n",
      "memory usage: 588.8+ MB\n"
     ]
    }
   ],
   "source": [
    "# Títulos das colunas:\n",
    "cand.info()"
   ]
  },
  {
   "cell_type": "code",
   "execution_count": 6,
   "id": "f9afd3a8",
   "metadata": {},
   "outputs": [
    {
     "data": {
      "text/plain": [
       "767494"
      ]
     },
     "execution_count": 6,
     "metadata": {},
     "output_type": "execute_result"
    }
   ],
   "source": [
    "# Quantidade de pessoas com gênero feminino da tabela de candidatos:\n",
    "len(cand[cand['genero'].str.contains('feminino') == True])"
   ]
  },
  {
   "cell_type": "code",
   "execution_count": 7,
   "id": "e95ef397",
   "metadata": {},
   "outputs": [
    {
     "data": {
      "text/plain": [
       "26.851443359454947"
      ]
     },
     "execution_count": 7,
     "metadata": {},
     "output_type": "execute_result"
    }
   ],
   "source": [
    "# A porcentagem da participação feminina,de 1994 a 2020, como candidatas, nas eleições brasileiras:\n",
    "(767494/2858297)*100"
   ]
  },
  {
   "cell_type": "code",
   "execution_count": 8,
   "id": "499c2d58",
   "metadata": {},
   "outputs": [
    {
     "data": {
      "text/plain": [
       "masculino    73.045105\n",
       "feminino     26.954895\n",
       "Name: genero, dtype: float64"
      ]
     },
     "execution_count": 8,
     "metadata": {},
     "output_type": "execute_result"
    }
   ],
   "source": [
    "# Porcentagem de candidatos masculinos e femininos:\n",
    "cand['genero'].value_counts(normalize=True)*100"
   ]
  },
  {
   "cell_type": "code",
   "execution_count": 9,
   "id": "08907ee7",
   "metadata": {},
   "outputs": [],
   "source": [
    "# Separando duas colunas para serem analisadas separadamente, ano e gênero:\n",
    "cand2 = cand[['ano','genero','instrucao']]"
   ]
  },
  {
   "cell_type": "code",
   "execution_count": 10,
   "id": "65b3c6ca",
   "metadata": {},
   "outputs": [
    {
     "data": {
      "text/html": [
       "<div>\n",
       "<style scoped>\n",
       "    .dataframe tbody tr th:only-of-type {\n",
       "        vertical-align: middle;\n",
       "    }\n",
       "\n",
       "    .dataframe tbody tr th {\n",
       "        vertical-align: top;\n",
       "    }\n",
       "\n",
       "    .dataframe thead th {\n",
       "        text-align: right;\n",
       "    }\n",
       "</style>\n",
       "<table border=\"1\" class=\"dataframe\">\n",
       "  <thead>\n",
       "    <tr style=\"text-align: right;\">\n",
       "      <th></th>\n",
       "      <th>ano</th>\n",
       "      <th>genero</th>\n",
       "      <th>instrucao</th>\n",
       "    </tr>\n",
       "  </thead>\n",
       "  <tbody>\n",
       "    <tr>\n",
       "      <th>0</th>\n",
       "      <td>1994</td>\n",
       "      <td>masculino</td>\n",
       "      <td>NaN</td>\n",
       "    </tr>\n",
       "    <tr>\n",
       "      <th>1</th>\n",
       "      <td>1994</td>\n",
       "      <td>masculino</td>\n",
       "      <td>NaN</td>\n",
       "    </tr>\n",
       "    <tr>\n",
       "      <th>2</th>\n",
       "      <td>1994</td>\n",
       "      <td>masculino</td>\n",
       "      <td>NaN</td>\n",
       "    </tr>\n",
       "    <tr>\n",
       "      <th>3</th>\n",
       "      <td>1994</td>\n",
       "      <td>masculino</td>\n",
       "      <td>NaN</td>\n",
       "    </tr>\n",
       "    <tr>\n",
       "      <th>4</th>\n",
       "      <td>1994</td>\n",
       "      <td>masculino</td>\n",
       "      <td>NaN</td>\n",
       "    </tr>\n",
       "    <tr>\n",
       "      <th>...</th>\n",
       "      <td>...</td>\n",
       "      <td>...</td>\n",
       "      <td>...</td>\n",
       "    </tr>\n",
       "    <tr>\n",
       "      <th>2858292</th>\n",
       "      <td>2020</td>\n",
       "      <td>masculino</td>\n",
       "      <td>ensino medio completo</td>\n",
       "    </tr>\n",
       "    <tr>\n",
       "      <th>2858293</th>\n",
       "      <td>2020</td>\n",
       "      <td>masculino</td>\n",
       "      <td>ensino medio completo</td>\n",
       "    </tr>\n",
       "    <tr>\n",
       "      <th>2858294</th>\n",
       "      <td>2020</td>\n",
       "      <td>masculino</td>\n",
       "      <td>ensino medio completo</td>\n",
       "    </tr>\n",
       "    <tr>\n",
       "      <th>2858295</th>\n",
       "      <td>2020</td>\n",
       "      <td>masculino</td>\n",
       "      <td>ensino fundamental completo</td>\n",
       "    </tr>\n",
       "    <tr>\n",
       "      <th>2858296</th>\n",
       "      <td>2020</td>\n",
       "      <td>feminino</td>\n",
       "      <td>ensino fundamental incompleto</td>\n",
       "    </tr>\n",
       "  </tbody>\n",
       "</table>\n",
       "<p>2858297 rows × 3 columns</p>\n",
       "</div>"
      ],
      "text/plain": [
       "          ano     genero                      instrucao\n",
       "0        1994  masculino                            NaN\n",
       "1        1994  masculino                            NaN\n",
       "2        1994  masculino                            NaN\n",
       "3        1994  masculino                            NaN\n",
       "4        1994  masculino                            NaN\n",
       "...       ...        ...                            ...\n",
       "2858292  2020  masculino          ensino medio completo\n",
       "2858293  2020  masculino          ensino medio completo\n",
       "2858294  2020  masculino          ensino medio completo\n",
       "2858295  2020  masculino    ensino fundamental completo\n",
       "2858296  2020   feminino  ensino fundamental incompleto\n",
       "\n",
       "[2858297 rows x 3 columns]"
      ]
     },
     "execution_count": 10,
     "metadata": {},
     "output_type": "execute_result"
    }
   ],
   "source": [
    "#Imprimir a tabela:\n",
    "cand2"
   ]
  },
  {
   "cell_type": "code",
   "execution_count": 11,
   "id": "1bbebd49",
   "metadata": {},
   "outputs": [
    {
     "name": "stdout",
     "output_type": "stream",
     "text": [
      "[363, 0, 1894, 71652, 2871, 85323, 2975, 81849, 5056, 152484, 8129, 158638, 9205, 187055]\n"
     ]
    }
   ],
   "source": [
    "# Contando quantas pessoas do gênero feminino tinham por ano e salvando em uma lista\n",
    "\n",
    "ano = 1994\n",
    "lista = []\n",
    "\n",
    "while ano <= 2020:\n",
    "    for i in range(1994,2022,2):\n",
    "        i == ano\n",
    "        filtro_ano = cand2.loc[lambda cand2: cand2['ano'] == i]\n",
    "        qtd_ano = len(filtro_ano[filtro_ano['genero'].str.contains('feminino') == True])\n",
    "        lista.append(qtd_ano)\n",
    "        ano += 2\n",
    "print(lista)"
   ]
  },
  {
   "cell_type": "code",
   "execution_count": 12,
   "id": "7e77c74d",
   "metadata": {},
   "outputs": [
    {
     "data": {
      "text/plain": [
       "14"
      ]
     },
     "execution_count": 12,
     "metadata": {},
     "output_type": "execute_result"
    }
   ],
   "source": [
    "# Verificando se a quantidade de dados esta correta\n",
    "len(lista)"
   ]
  },
  {
   "cell_type": "code",
   "execution_count": 13,
   "id": "0e9d7b0b",
   "metadata": {},
   "outputs": [
    {
     "name": "stdout",
     "output_type": "stream",
     "text": [
      "    Ano_Eleicao  Quantidade_candidatas\n",
      "0          1994                    363\n",
      "1          1996                      0\n",
      "2          1998                   1894\n",
      "3          2000                  71652\n",
      "4          2002                   2871\n",
      "5          2004                  85323\n",
      "6          2006                   2975\n",
      "7          2008                  81849\n",
      "8          2010                   5056\n",
      "9          2012                 152484\n",
      "10         2014                   8129\n",
      "11         2016                 158638\n",
      "12         2018                   9205\n",
      "13         2020                 187055\n"
     ]
    }
   ],
   "source": [
    "# Gerando uma tabela com os anos eleitorais e os dados da lista anterior, para gerar gráficos.\n",
    "info_fem =[[1994,363], [1996,0],[1998,1894],[2000,71652],[2002,2871],[2004,85323],[2006,2975],[2008,81849],[2010,5056],[2012,152484],[2014,8129],[2016, 158638],[2018,9205],[2020, 187055]]\n",
    "tabela_fem = pd.DataFrame(info_fem, columns = ['Ano_Eleicao', 'Quantidade_candidatas'])\n",
    "print(tabela_fem)"
   ]
  },
  {
   "cell_type": "code",
   "execution_count": 14,
   "id": "b6aa16cf",
   "metadata": {},
   "outputs": [
    {
     "data": {
      "image/png": "[encoded data removed]",
      "text/plain": [
       "<Figure size 432x288 with 1 Axes>"
      ]
     },
     "metadata": {},
     "output_type": "display_data"
    }
   ],
   "source": [
    "# Gerando gráfico da variação de mulheres nas eleições brasileiras, usando a tabela anterior\n",
    "plt.plot(tabela_fem['Ano_Eleicao'], tabela_fem['Quantidade_candidatas'], color='red', marker='o')\n",
    "plt.title('Candidatas Eleições Brasileiras (1994 - 2020)', color='black', fontsize=14)\n",
    "plt.xlabel('Ano_Eleicao',color='black', fontsize=14)\n",
    "plt.ylabel('Quantidade_candidatas',color='black', fontsize=14)\n",
    "plt.grid(True)\n",
    "plt.show()"
   ]
  },
  {
   "cell_type": "code",
   "execution_count": 15,
   "id": "d2ad4c92",
   "metadata": {
    "scrolled": true
   },
   "outputs": [
    {
     "name": "stdout",
     "output_type": "stream",
     "text": [
      "[5044, 0, 13199, 311928, 16787, 316085, 17771, 302555, 17481, 331141, 18067, 339380, 19882, 370513]\n"
     ]
    }
   ],
   "source": [
    "# Contando quantas pessoas do gênero masculino tinham por ano e salvando em uma lista\n",
    "\n",
    "ano = 1994\n",
    "lista = []\n",
    "\n",
    "while ano <= 2020:\n",
    "    for i in range(1994,2022,2):\n",
    "        i == ano\n",
    "        filtro_ano = cand2.loc[lambda cand2: cand2['ano'] == i]\n",
    "        qtd_ano = len(filtro_ano[filtro_ano['genero'].str.contains('masculino') == True])\n",
    "        lista.append(qtd_ano)\n",
    "        ano += 2\n",
    "print(lista)"
   ]
  },
  {
   "cell_type": "code",
   "execution_count": 16,
   "id": "29bc671e",
   "metadata": {},
   "outputs": [
    {
     "data": {
      "text/plain": [
       "14"
      ]
     },
     "execution_count": 16,
     "metadata": {},
     "output_type": "execute_result"
    }
   ],
   "source": [
    "# Verificando se a quantidade de dados esta correta\n",
    "len(lista)"
   ]
  },
  {
   "cell_type": "code",
   "execution_count": 17,
   "id": "70908344",
   "metadata": {},
   "outputs": [
    {
     "name": "stdout",
     "output_type": "stream",
     "text": [
      "    Ano_Eleicao  Quantidade_candidatos\n",
      "0          1994                   5044\n",
      "1          1996                      0\n",
      "2          1998                  13199\n",
      "3          2000                 311928\n",
      "4          2002                  16787\n",
      "5          2004                 316085\n",
      "6          2006                  17771\n",
      "7          2008                 302555\n",
      "8          2010                  17481\n",
      "9          2012                 331141\n",
      "10         2014                  18067\n",
      "11         2016                 339380\n",
      "12         2018                  19882\n",
      "13         2020                 370513\n"
     ]
    }
   ],
   "source": [
    "# Gerando uma tabela com os anos eleitorais e os dados da lista anterior, para gerar gráficos.\n",
    "info_masc =[[1994,5044], [1996,0],[1998,13199],[2000,311928],[2002,16787],[2004,316085],[2006,17771],[2008,302555],[2010,17481],[2012,331141],[2014,18067],[2016, 339380],[2018,19882],[2020, 370513]]\n",
    "tabela_masc = pd.DataFrame(info_masc, columns = ['Ano_Eleicao', 'Quantidade_candidatos'])\n",
    "print(tabela_masc)"
   ]
  },
  {
   "cell_type": "code",
   "execution_count": 18,
   "id": "98b8e944",
   "metadata": {},
   "outputs": [
    {
     "data": {
      "image/png": "[encoded data removed]",
      "text/plain": [
       "<Figure size 432x288 with 1 Axes>"
      ]
     },
     "metadata": {},
     "output_type": "display_data"
    }
   ],
   "source": [
    "# Gerando gráfico da variação da quantidade de homens nas eleições brasileiras, usando a tabela anterior\n",
    "plt.plot(tabela_masc['Ano_Eleicao'], tabela_masc['Quantidade_candidatos'], color='blue', marker='o')\n",
    "plt.title('Candidatos Eleições Brasileiras (1994 - 2020)', color='black', fontsize=14)\n",
    "plt.xlabel('Ano_Eleicao',color='black', fontsize=14)\n",
    "plt.ylabel('Quantidade_candidatos', color='black', fontsize=14)\n",
    "plt.grid(True)\n",
    "plt.show()"
   ]
  },
  {
   "cell_type": "code",
   "execution_count": 19,
   "id": "6fc960ba",
   "metadata": {},
   "outputs": [
    {
     "data": {
      "image/png": "[encoded data removed]",
      "text/plain": [
       "<Figure size 432x288 with 1 Axes>"
      ]
     },
     "metadata": {},
     "output_type": "display_data"
    }
   ],
   "source": [
    "# Junção dos dois gráficos anteriores\n",
    "plt.plot(tabela_fem['Ano_Eleicao'], tabela_fem['Quantidade_candidatas'], color='red', marker='o')\n",
    "plt.plot(tabela_masc['Ano_Eleicao'], tabela_masc['Quantidade_candidatos'], color='blue', marker='o')\n",
    "plt.title('Quantidade Mulheres x Quantidade de Homens nas Eleições (1994 - 2020)', color='black', fontsize=14)\n",
    "plt.xlabel('Ano_Eleicao',color='black', fontsize=14)\n",
    "plt.ylabel('Quantidade_candidatos', color='black', fontsize=14)\n",
    "plt.grid(True)\n",
    "plt.show()"
   ]
  },
  {
   "cell_type": "markdown",
   "id": "1140cc84",
   "metadata": {},
   "source": [
    "**\"Conclusão da primeira parte\"**\n",
    "\n",
    "*Concluímos, com esse pequeno estudo dos dados focados no gênero, que existe quase uma constância no\n",
    "gráfico da quantidade de homens que participam das eleições ao longo dos anos e ver que, apesar da \n",
    "quantidade de mulheres terem aumentado mais de 500% de 1994 à 2020, o aumento da participação das \n",
    "mulheres na política é lento, porém, gradativo.*"
   ]
  },
  {
   "cell_type": "code",
   "execution_count": 20,
   "id": "97250c04",
   "metadata": {},
   "outputs": [
    {
     "data": {
      "text/html": [
       "<div>\n",
       "<style scoped>\n",
       "    .dataframe tbody tr th:only-of-type {\n",
       "        vertical-align: middle;\n",
       "    }\n",
       "\n",
       "    .dataframe tbody tr th {\n",
       "        vertical-align: top;\n",
       "    }\n",
       "\n",
       "    .dataframe thead th {\n",
       "        text-align: right;\n",
       "    }\n",
       "</style>\n",
       "<table border=\"1\" class=\"dataframe\">\n",
       "  <thead>\n",
       "    <tr style=\"text-align: right;\">\n",
       "      <th></th>\n",
       "      <th>ano</th>\n",
       "      <th>genero</th>\n",
       "      <th>instrucao</th>\n",
       "    </tr>\n",
       "  </thead>\n",
       "  <tbody>\n",
       "    <tr>\n",
       "      <th>19</th>\n",
       "      <td>1994</td>\n",
       "      <td>feminino</td>\n",
       "      <td>NaN</td>\n",
       "    </tr>\n",
       "    <tr>\n",
       "      <th>25</th>\n",
       "      <td>1994</td>\n",
       "      <td>feminino</td>\n",
       "      <td>NaN</td>\n",
       "    </tr>\n",
       "    <tr>\n",
       "      <th>59</th>\n",
       "      <td>1994</td>\n",
       "      <td>feminino</td>\n",
       "      <td>NaN</td>\n",
       "    </tr>\n",
       "    <tr>\n",
       "      <th>70</th>\n",
       "      <td>1994</td>\n",
       "      <td>feminino</td>\n",
       "      <td>NaN</td>\n",
       "    </tr>\n",
       "    <tr>\n",
       "      <th>76</th>\n",
       "      <td>1994</td>\n",
       "      <td>feminino</td>\n",
       "      <td>NaN</td>\n",
       "    </tr>\n",
       "    <tr>\n",
       "      <th>...</th>\n",
       "      <td>...</td>\n",
       "      <td>...</td>\n",
       "      <td>...</td>\n",
       "    </tr>\n",
       "    <tr>\n",
       "      <th>2858285</th>\n",
       "      <td>2020</td>\n",
       "      <td>feminino</td>\n",
       "      <td>ensino medio completo</td>\n",
       "    </tr>\n",
       "    <tr>\n",
       "      <th>2858286</th>\n",
       "      <td>2020</td>\n",
       "      <td>feminino</td>\n",
       "      <td>ensino fundamental completo</td>\n",
       "    </tr>\n",
       "    <tr>\n",
       "      <th>2858290</th>\n",
       "      <td>2020</td>\n",
       "      <td>feminino</td>\n",
       "      <td>ensino medio completo</td>\n",
       "    </tr>\n",
       "    <tr>\n",
       "      <th>2858291</th>\n",
       "      <td>2020</td>\n",
       "      <td>feminino</td>\n",
       "      <td>ensino superior completo</td>\n",
       "    </tr>\n",
       "    <tr>\n",
       "      <th>2858296</th>\n",
       "      <td>2020</td>\n",
       "      <td>feminino</td>\n",
       "      <td>ensino fundamental incompleto</td>\n",
       "    </tr>\n",
       "  </tbody>\n",
       "</table>\n",
       "<p>767494 rows × 3 columns</p>\n",
       "</div>"
      ],
      "text/plain": [
       "          ano    genero                      instrucao\n",
       "19       1994  feminino                            NaN\n",
       "25       1994  feminino                            NaN\n",
       "59       1994  feminino                            NaN\n",
       "70       1994  feminino                            NaN\n",
       "76       1994  feminino                            NaN\n",
       "...       ...       ...                            ...\n",
       "2858285  2020  feminino          ensino medio completo\n",
       "2858286  2020  feminino    ensino fundamental completo\n",
       "2858290  2020  feminino          ensino medio completo\n",
       "2858291  2020  feminino       ensino superior completo\n",
       "2858296  2020  feminino  ensino fundamental incompleto\n",
       "\n",
       "[767494 rows x 3 columns]"
      ]
     },
     "execution_count": 20,
     "metadata": {},
     "output_type": "execute_result"
    }
   ],
   "source": [
    "# Separar genero feminino e escolaridade\n",
    "inst_fem = cand2[cand2['genero'].str.contains('feminino') == True]\n",
    "inst_fem"
   ]
  },
  {
   "cell_type": "code",
   "execution_count": 21,
   "id": "99ff5d82",
   "metadata": {},
   "outputs": [
    {
     "data": {
      "text/plain": [
       "ensino medio completo            36.287153\n",
       "ensino superior completo         25.617279\n",
       "ensino fundamental incompleto    12.760082\n",
       "ensino fundamental completo      11.381487\n",
       "ensino superior incompleto        5.670653\n",
       "ensino medio incompleto           5.519744\n",
       "le e escreve                      2.754179\n",
       "analfabeto                        0.009424\n",
       "Name: instrucao, dtype: float64"
      ]
     },
     "execution_count": 21,
     "metadata": {},
     "output_type": "execute_result"
    }
   ],
   "source": [
    "# Porcentagem de mulheres por escolaridade\n",
    "inst_fem['instrucao'].value_counts(normalize=True)*100"
   ]
  },
  {
   "cell_type": "code",
   "execution_count": 22,
   "id": "63f4fdfc",
   "metadata": {},
   "outputs": [
    {
     "data": {
      "image/png": "[encoded data removed]",
      "text/plain": [
       "<Figure size 432x288 with 1 Axes>"
      ]
     },
     "metadata": {},
     "output_type": "display_data"
    }
   ],
   "source": [
    "#Gráfico da tabela anterior\n",
    "ensino_fem = ['Analfabeto','Le e Escreve','Ens_fund Inc','Ens_fund Comp','Ens_med Inc','Ens_med Comp','Ens_sup Inc','Ens_sup Comp']\n",
    "dados_fem = [0.01,2.75,12.76,11.38,5.52,36.29,5.67,25.62]\n",
    "plt.barh(ensino_fem,dados_fem, color='purple')\n",
    "plt.ylabel('Escolaridade', color='black')\n",
    "plt.xlabel('% de mulheres',color='black')\n",
    "plt.title('Escolaridade das mulheres candidatas nas eleições brasileiras (1994 -200)',color='black')\n",
    "plt.show()"
   ]
  },
  {
   "cell_type": "code",
   "execution_count": 23,
   "id": "026f3684",
   "metadata": {},
   "outputs": [
    {
     "data": {
      "text/html": [
       "<div>\n",
       "<style scoped>\n",
       "    .dataframe tbody tr th:only-of-type {\n",
       "        vertical-align: middle;\n",
       "    }\n",
       "\n",
       "    .dataframe tbody tr th {\n",
       "        vertical-align: top;\n",
       "    }\n",
       "\n",
       "    .dataframe thead th {\n",
       "        text-align: right;\n",
       "    }\n",
       "</style>\n",
       "<table border=\"1\" class=\"dataframe\">\n",
       "  <thead>\n",
       "    <tr style=\"text-align: right;\">\n",
       "      <th></th>\n",
       "      <th>ano</th>\n",
       "      <th>genero</th>\n",
       "      <th>instrucao</th>\n",
       "    </tr>\n",
       "  </thead>\n",
       "  <tbody>\n",
       "    <tr>\n",
       "      <th>0</th>\n",
       "      <td>1994</td>\n",
       "      <td>masculino</td>\n",
       "      <td>NaN</td>\n",
       "    </tr>\n",
       "    <tr>\n",
       "      <th>1</th>\n",
       "      <td>1994</td>\n",
       "      <td>masculino</td>\n",
       "      <td>NaN</td>\n",
       "    </tr>\n",
       "    <tr>\n",
       "      <th>2</th>\n",
       "      <td>1994</td>\n",
       "      <td>masculino</td>\n",
       "      <td>NaN</td>\n",
       "    </tr>\n",
       "    <tr>\n",
       "      <th>3</th>\n",
       "      <td>1994</td>\n",
       "      <td>masculino</td>\n",
       "      <td>NaN</td>\n",
       "    </tr>\n",
       "    <tr>\n",
       "      <th>4</th>\n",
       "      <td>1994</td>\n",
       "      <td>masculino</td>\n",
       "      <td>NaN</td>\n",
       "    </tr>\n",
       "    <tr>\n",
       "      <th>...</th>\n",
       "      <td>...</td>\n",
       "      <td>...</td>\n",
       "      <td>...</td>\n",
       "    </tr>\n",
       "    <tr>\n",
       "      <th>2858289</th>\n",
       "      <td>2020</td>\n",
       "      <td>masculino</td>\n",
       "      <td>ensino fundamental completo</td>\n",
       "    </tr>\n",
       "    <tr>\n",
       "      <th>2858292</th>\n",
       "      <td>2020</td>\n",
       "      <td>masculino</td>\n",
       "      <td>ensino medio completo</td>\n",
       "    </tr>\n",
       "    <tr>\n",
       "      <th>2858293</th>\n",
       "      <td>2020</td>\n",
       "      <td>masculino</td>\n",
       "      <td>ensino medio completo</td>\n",
       "    </tr>\n",
       "    <tr>\n",
       "      <th>2858294</th>\n",
       "      <td>2020</td>\n",
       "      <td>masculino</td>\n",
       "      <td>ensino medio completo</td>\n",
       "    </tr>\n",
       "    <tr>\n",
       "      <th>2858295</th>\n",
       "      <td>2020</td>\n",
       "      <td>masculino</td>\n",
       "      <td>ensino fundamental completo</td>\n",
       "    </tr>\n",
       "  </tbody>\n",
       "</table>\n",
       "<p>2079833 rows × 3 columns</p>\n",
       "</div>"
      ],
      "text/plain": [
       "          ano     genero                    instrucao\n",
       "0        1994  masculino                          NaN\n",
       "1        1994  masculino                          NaN\n",
       "2        1994  masculino                          NaN\n",
       "3        1994  masculino                          NaN\n",
       "4        1994  masculino                          NaN\n",
       "...       ...        ...                          ...\n",
       "2858289  2020  masculino  ensino fundamental completo\n",
       "2858292  2020  masculino        ensino medio completo\n",
       "2858293  2020  masculino        ensino medio completo\n",
       "2858294  2020  masculino        ensino medio completo\n",
       "2858295  2020  masculino  ensino fundamental completo\n",
       "\n",
       "[2079833 rows x 3 columns]"
      ]
     },
     "execution_count": 23,
     "metadata": {},
     "output_type": "execute_result"
    }
   ],
   "source": [
    "# Separar genero masculino e escolaridade\n",
    "inst_masc = cand2[cand2['genero'].str.contains('masculino') == True]\n",
    "inst_masc"
   ]
  },
  {
   "cell_type": "code",
   "execution_count": 24,
   "id": "96b0b1ad",
   "metadata": {},
   "outputs": [
    {
     "data": {
      "text/plain": [
       "ensino medio completo            31.395807\n",
       "ensino fundamental incompleto    20.310154\n",
       "ensino superior completo         18.883812\n",
       "ensino fundamental completo      14.529773\n",
       "ensino medio incompleto           6.041210\n",
       "ensino superior incompleto        4.908574\n",
       "le e escreve                      3.913456\n",
       "analfabeto                        0.017214\n",
       "Name: instrucao, dtype: float64"
      ]
     },
     "execution_count": 24,
     "metadata": {},
     "output_type": "execute_result"
    }
   ],
   "source": [
    "# Porcentagem de homens por escolaridade\n",
    "inst_masc['instrucao'].value_counts(normalize=True)*100"
   ]
  },
  {
   "cell_type": "code",
   "execution_count": 25,
   "id": "c5e778b2",
   "metadata": {},
   "outputs": [
    {
     "data": {
      "image/png": "[encoded data removed]",
      "text/plain": [
       "<Figure size 432x288 with 1 Axes>"
      ]
     },
     "metadata": {},
     "output_type": "display_data"
    }
   ],
   "source": [
    "#Gráfico da tabela anterior\n",
    "ensino_masc = ['Analfabeto','Le e Escreve','Ens_fund Inc','Ens_fund Comp','Ens_med Inc','Ens_med Comp','Ens_sup Inc','Ens_sup Comp']\n",
    "dados_masc = [0.01,3.91,20.31,14.53,6.04,31.40,4.90,18.88]\n",
    "plt.barh(ensino_masc,dados_masc, color='green')\n",
    "plt.ylabel('Escolaridade')\n",
    "plt.xlabel('% de homens')\n",
    "plt.title('Escolaridade dos homens candidatos nas eleições brasileiras (1994 -200)')\n",
    "plt.show()"
   ]
  },
  {
   "cell_type": "code",
   "execution_count": 26,
   "id": "77f910b2",
   "metadata": {},
   "outputs": [
    {
     "data": {
      "image/png": "[encoded data removed]",
      "text/plain": [
       "<Figure size 720x720 with 1 Axes>"
      ]
     },
     "metadata": {},
     "output_type": "display_data"
    }
   ],
   "source": [
    "# Gráfico comparando o grau de escolaridade entre os candidatos homens e mulheres\n",
    "\n",
    "dados_fem = [0.01,2.75,12.76,11.38,5.52,36.29,5.67,25.62]\n",
    "dados_masc = [0.01,3.91,20.31,14.53,6.04,31.40,4.90,18.88]\n",
    "\n",
    "barWidth = 0.3 #largura das barras\n",
    "plt.figure(figsize=(10,10)) #aumentando o gráfico\n",
    "\n",
    "r1 = np.arange(len(dados_fem))\n",
    "r2 = [x + barWidth for x in r1]\n",
    "\n",
    "plt.bar(r1, dados_fem, color='purple', width=barWidth, label='Mulheres')\n",
    "plt.bar(r2, dados_masc, color='green', width=barWidth, label='Homens')\n",
    "\n",
    "plt.ylabel('% de pessoas')\n",
    "plt.xticks([r + barWidth for r in range(len(dados_fem))], ['Analf','LE','EFI','EFC','EMI','EMC','ESI','ESC'])\n",
    "plt.xlabel('Educação Escolar')\n",
    "plt.title('Educação escolar das mulheres e homens candidatos nas eleições brasileiras (1994 -200)')\n",
    "\n",
    "plt.legend()\n",
    "plt.show()"
   ]
  },
  {
   "cell_type": "markdown",
   "id": "5a662146",
   "metadata": {},
   "source": [
    "Analf = Analfabeto\n",
    "\n",
    "LE = Lê e escreve\n",
    "\n",
    "EFI = Ensino Fundamental Incompleto\n",
    "\n",
    "EFC = Ensino Fundamental Completo\n",
    "\n",
    "EMI = Ensino Médio Incompleto\n",
    "\n",
    "EMC = Ensino Médio Completo\n",
    "\n",
    "ESI = Ensino Superior Incompleto\n",
    "\n",
    "ESC = Ensino Superior Completo\n",
    "  "
   ]
  },
  {
   "cell_type": "markdown",
   "id": "0b01dfc0",
   "metadata": {},
   "source": [
    "**\"Conclusão da segunda parte\"**\n",
    "\n",
    "*Neste estudo, analisamos a escolaridade dos candidatos homens e mulheres separados. No último\n",
    "gráfico podemos perceber que a maioria dos candidatos, seja homem ou mulher, só cursaram até o\n",
    "ensino médio e a falta de educação e escolaridade dos políticos, refletem, nitidamente na população.*"
   ]
  }
 ],
 "metadata": {
  "kernelspec": {
   "display_name": "Python 3 (ipykernel)",
   "language": "python",
   "name": "python3"
  },
  "language_info": {
   "codemirror_mode": {
    "name": "ipython",
    "version": 3
   },
   "file_extension": ".py",
   "mimetype": "text/x-python",
   "name": "python",
   "nbconvert_exporter": "python",
   "pygments_lexer": "ipython3",
   "version": "3.9.7"
  }
 },
 "nbformat": 4,
 "nbformat_minor": 5
}
